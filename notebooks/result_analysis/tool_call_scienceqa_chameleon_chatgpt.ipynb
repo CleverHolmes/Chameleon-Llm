{
 "cells": [
  {
   "cell_type": "code",
   "execution_count": 1,
   "id": "d0ecbaa2",
   "metadata": {},
   "outputs": [],
   "source": [
    "import os\n",
    "import json\n",
    "import pandas as pd\n",
    "\n",
    "import warnings\n",
    "warnings.filterwarnings(\"ignore\")"
   ]
  },
  {
   "cell_type": "code",
   "execution_count": 2,
   "id": "02a83438",
   "metadata": {},
   "outputs": [],
   "source": [
    "# final result (79.93%)\n",
    "result_file = \"../../final_results/scienceqa/chameleon_chatgpt_test_cache.jsonl\"\n",
    "data_file = \"../../data/scienceqa/problems.json\""
   ]
  },
  {
   "cell_type": "code",
   "execution_count": 3,
   "id": "8aee71b8",
   "metadata": {},
   "outputs": [],
   "source": [
    "inventory = ['knowledge_retrieval',\n",
    " 'text_detector',\n",
    " 'query_generator',\n",
    " 'bing_search',\n",
    " 'image_captioner',\n",
    " 'solution_generator',\n",
    " 'answer_generator']"
   ]
  },
  {
   "cell_type": "code",
   "execution_count": 4,
   "id": "721d70e5",
   "metadata": {
    "scrolled": false
   },
   "outputs": [
    {
     "ename": "FileNotFoundError",
     "evalue": "[Errno 2] No such file or directory: '../../final_results/scienceqa/chameleon_chatgpt_test_cache.jsonl'",
     "output_type": "error",
     "traceback": [
      "\u001b[0;31m---------------------------------------------------------------------------\u001b[0m",
      "\u001b[0;31mFileNotFoundError\u001b[0m                         Traceback (most recent call last)",
      "Cell \u001b[0;32mIn[4], line 3\u001b[0m\n\u001b[1;32m      1\u001b[0m prob_data \u001b[38;5;241m=\u001b[39m json\u001b[38;5;241m.\u001b[39mload(\u001b[38;5;28mopen\u001b[39m(data_file))\n\u001b[0;32m----> 3\u001b[0m \u001b[38;5;28;01mwith\u001b[39;00m \u001b[38;5;28;43mopen\u001b[39;49m\u001b[43m(\u001b[49m\u001b[43mresult_file\u001b[49m\u001b[43m)\u001b[49m \u001b[38;5;28;01mas\u001b[39;00m f:\n\u001b[1;32m      4\u001b[0m     results \u001b[38;5;241m=\u001b[39m {}\n\u001b[1;32m      5\u001b[0m     \u001b[38;5;28;01mfor\u001b[39;00m line \u001b[38;5;129;01min\u001b[39;00m f:\n",
      "File \u001b[0;32m/Library/Frameworks/Python.framework/Versions/3.9/lib/python3.9/site-packages/IPython/core/interactiveshell.py:282\u001b[0m, in \u001b[0;36m_modified_open\u001b[0;34m(file, *args, **kwargs)\u001b[0m\n\u001b[1;32m    275\u001b[0m \u001b[38;5;28;01mif\u001b[39;00m file \u001b[38;5;129;01min\u001b[39;00m {\u001b[38;5;241m0\u001b[39m, \u001b[38;5;241m1\u001b[39m, \u001b[38;5;241m2\u001b[39m}:\n\u001b[1;32m    276\u001b[0m     \u001b[38;5;28;01mraise\u001b[39;00m \u001b[38;5;167;01mValueError\u001b[39;00m(\n\u001b[1;32m    277\u001b[0m         \u001b[38;5;124mf\u001b[39m\u001b[38;5;124m\"\u001b[39m\u001b[38;5;124mIPython won\u001b[39m\u001b[38;5;124m'\u001b[39m\u001b[38;5;124mt let you open fd=\u001b[39m\u001b[38;5;132;01m{\u001b[39;00mfile\u001b[38;5;132;01m}\u001b[39;00m\u001b[38;5;124m by default \u001b[39m\u001b[38;5;124m\"\u001b[39m\n\u001b[1;32m    278\u001b[0m         \u001b[38;5;124m\"\u001b[39m\u001b[38;5;124mas it is likely to crash IPython. If you know what you are doing, \u001b[39m\u001b[38;5;124m\"\u001b[39m\n\u001b[1;32m    279\u001b[0m         \u001b[38;5;124m\"\u001b[39m\u001b[38;5;124myou can use builtins\u001b[39m\u001b[38;5;124m'\u001b[39m\u001b[38;5;124m open.\u001b[39m\u001b[38;5;124m\"\u001b[39m\n\u001b[1;32m    280\u001b[0m     )\n\u001b[0;32m--> 282\u001b[0m \u001b[38;5;28;01mreturn\u001b[39;00m \u001b[43mio_open\u001b[49m\u001b[43m(\u001b[49m\u001b[43mfile\u001b[49m\u001b[43m,\u001b[49m\u001b[43m \u001b[49m\u001b[38;5;241;43m*\u001b[39;49m\u001b[43margs\u001b[49m\u001b[43m,\u001b[49m\u001b[43m \u001b[49m\u001b[38;5;241;43m*\u001b[39;49m\u001b[38;5;241;43m*\u001b[39;49m\u001b[43mkwargs\u001b[49m\u001b[43m)\u001b[49m\n",
      "\u001b[0;31mFileNotFoundError\u001b[0m: [Errno 2] No such file or directory: '../../final_results/scienceqa/chameleon_chatgpt_test_cache.jsonl'"
     ]
    }
   ],
   "source": [
    "prob_data = json.load(open(data_file))\n",
    "\n",
    "with open(result_file) as f:\n",
    "    results = {}\n",
    "    for line in f:\n",
    "        try:\n",
    "            data = json.loads(line)\n",
    "            results[data[\"pid\"]] = data\n",
    "        except:\n",
    "            pass\n",
    "        \n",
    "test_pids = list(results.keys())\n",
    "\n",
    "\n",
    "# construct pandas data\n",
    "prob_data = pd.DataFrame(prob_data).T\n",
    "res_pd = prob_data[prob_data.index.isin(test_pids)]  # test set\n",
    "\n",
    "# update data\n",
    "for index, row in res_pd.iterrows():\n",
    "    result = results[index]\n",
    "    \n",
    "    res_pd.loc[index, 'true_false'] = result['true_false']\n",
    "    \n",
    "    modules = result[\"modules:output\"]\n",
    "    \n",
    "    res_pd.loc[index, 'modules'] = str(modules)\n",
    "    res_pd.loc[index, 'num_modules'] = int(len(modules))\n",
    "    \n",
    "    for module in inventory:\n",
    "        res_pd.loc[index, module] = True if module in modules else False"
   ]
  },
  {
   "cell_type": "code",
   "execution_count": null,
   "id": "d3b189fa",
   "metadata": {},
   "outputs": [],
   "source": [
    "res_pd"
   ]
  },
  {
   "cell_type": "code",
   "execution_count": null,
   "id": "19148591",
   "metadata": {},
   "outputs": [],
   "source": [
    "def get_num_with_contion(res_pd, key, values):\n",
    "    if isinstance(values, list):\n",
    "        total_pd = res_pd[res_pd[key].isin(values)]\n",
    "    else:\n",
    "        total_pd = res_pd[res_pd[key] == values]\n",
    "        \n",
    "    if len(res_pd) > 0:\n",
    "        percent = \"{:.2f}\".format(len(total_pd) / len(res_pd) * 100)\n",
    "    else:\n",
    "        percent = None\n",
    "    return percent"
   ]
  },
  {
   "cell_type": "code",
   "execution_count": null,
   "id": "9f009768",
   "metadata": {},
   "outputs": [],
   "source": [
    "for module in inventory:\n",
    "    use_num = get_num_with_contion(res_pd, module, True)\n",
    "    nouse_num = get_num_with_contion(res_pd, module, False)\n",
    "    print(module, use_num, nouse_num)"
   ]
  },
  {
   "cell_type": "code",
   "execution_count": null,
   "id": "1f7819da",
   "metadata": {},
   "outputs": [],
   "source": []
  }
 ],
 "metadata": {
  "kernelspec": {
   "display_name": "Python 3 (ipykernel)",
   "language": "python",
   "name": "python3"
  },
  "language_info": {
   "codemirror_mode": {
    "name": "ipython",
    "version": 3
   },
   "file_extension": ".py",
   "mimetype": "text/x-python",
   "name": "python",
   "nbconvert_exporter": "python",
   "pygments_lexer": "ipython3",
   "version": "3.9.1rc1"
  }
 },
 "nbformat": 4,
 "nbformat_minor": 5
}
